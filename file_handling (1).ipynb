{
 "cells": [
  {
   "cell_type": "markdown",
   "metadata": {},
   "source": [
    "### Reading from a file"
   ]
  },
  {
   "cell_type": "code",
   "execution_count": 1,
   "metadata": {},
   "outputs": [
    {
     "name": "stdout",
     "output_type": "stream",
     "text": [
      "YearsExperience,Age,Salary\n",
      "1.1,21,39343\n",
      "1.3,21.5,46205\n",
      "1.5,21.7,37731\n",
      "2,22,43525\n",
      "2.2,22.2,39891\n",
      "2.9,23,56642\n",
      "3,23,60150\n",
      "3.2,23.3,54445\n",
      "3.2,23.3,64445\n",
      "3.7,23.6,57189\n",
      "3.9,23.9,63218\n",
      "4,24,55794\n",
      "4,24,56957\n",
      "4.1,24,57081\n",
      "4.5,25,61111\n",
      "4.9,25,67938\n",
      "5.1,26,66029\n",
      "5.3,27,83088\n",
      "5.9,28,81363\n",
      "6,29,93940\n",
      "6.8,30,91738\n",
      "7.1,30,98273\n",
      "7.9,31,101302\n",
      "8.2,32,113812\n",
      "8.7,33,109431\n",
      "9,34,105582\n",
      "9.5,35,116969\n",
      "9.6,36,112635\n",
      "10.3,37,122391\n",
      "10.5,38,121872\n",
      "\n"
     ]
    }
   ],
   "source": [
    "# file_reader.py\n",
    "with open('Salary_Data.csv') as file_object:\n",
    "    contents=file_object.read()\n",
    "    print(contents)\n",
    "\n",
    "# open() fucntion needs one argument: the name of the fule we want to open\n",
    "# python looks for this file in the directory where the program that's currently being executed is stored.\n",
    "# here python looks for pi_digits.txt \n",
    "# open() function return the object represeting the file\n",
    "# here open('pi_digits.txt') return the object representing pi_digits.txt. Python stores this object in file_object\n",
    "\n",
    "# we can open and close file by using open() and close() fucntion\n",
    "# once we open the file we used read() method in second line of our program to read the entire contents of the file and store it as one long string in contents\n",
    "\n",
    "# the only difference between this output and original file is the exta blank line at the end of output. \n",
    "# the black line appears because read() return an empty string when t reaches the end of the file\n",
    "# this empty space shows up as blank line"
   ]
  },
  {
   "cell_type": "code",
   "execution_count": 2,
   "metadata": {},
   "outputs": [
    {
     "name": "stdout",
     "output_type": "stream",
     "text": [
      "YearsExperience,Age,Salary\n",
      "1.1,21,39343\n",
      "1.3,21.5,46205\n",
      "1.5,21.7,37731\n",
      "2,22,43525\n",
      "2.2,22.2,39891\n",
      "2.9,23,56642\n",
      "3,23,60150\n",
      "3.2,23.3,54445\n",
      "3.2,23.3,64445\n",
      "3.7,23.6,57189\n",
      "3.9,23.9,63218\n",
      "4,24,55794\n",
      "4,24,56957\n",
      "4.1,24,57081\n",
      "4.5,25,61111\n",
      "4.9,25,67938\n",
      "5.1,26,66029\n",
      "5.3,27,83088\n",
      "5.9,28,81363\n",
      "6,29,93940\n",
      "6.8,30,91738\n",
      "7.1,30,98273\n",
      "7.9,31,101302\n",
      "8.2,32,113812\n",
      "8.7,33,109431\n",
      "9,34,105582\n",
      "9.5,35,116969\n",
      "9.6,36,112635\n",
      "10.3,37,122391\n",
      "10.5,38,121872\n"
     ]
    }
   ],
   "source": [
    "with open('Salary_Data.csv') as file_object:\n",
    "    contents=file_object.read()\n",
    "    print(contents.rstrip())\n",
    "\n",
    "# here rstrip is used to remove the blank space from the right side of a string."
   ]
  },
  {
   "cell_type": "code",
   "execution_count": 10,
   "metadata": {},
   "outputs": [
    {
     "name": "stdout",
     "output_type": "stream",
     "text": [
      "YearsExperience,Age,Salary\n",
      "\n",
      "1.1,21,39343\n",
      "\n",
      "1.3,21.5,46205\n",
      "\n",
      "1.5,21.7,37731\n",
      "\n",
      "2,22,43525\n",
      "\n",
      "2.2,22.2,39891\n",
      "\n",
      "2.9,23,56642\n",
      "\n",
      "3,23,60150\n",
      "\n",
      "3.2,23.3,54445\n",
      "\n",
      "3.2,23.3,64445\n",
      "\n",
      "3.7,23.6,57189\n",
      "\n",
      "3.9,23.9,63218\n",
      "\n",
      "4,24,55794\n",
      "\n",
      "4,24,56957\n",
      "\n",
      "4.1,24,57081\n",
      "\n",
      "4.5,25,61111\n",
      "\n",
      "4.9,25,67938\n",
      "\n",
      "5.1,26,66029\n",
      "\n",
      "5.3,27,83088\n",
      "\n",
      "5.9,28,81363\n",
      "\n",
      "6,29,93940\n",
      "\n",
      "6.8,30,91738\n",
      "\n",
      "7.1,30,98273\n",
      "\n",
      "7.9,31,101302\n",
      "\n",
      "8.2,32,113812\n",
      "\n",
      "8.7,33,109431\n",
      "\n",
      "9,34,105582\n",
      "\n",
      "9.5,35,116969\n",
      "\n",
      "9.6,36,112635\n",
      "\n",
      "10.3,37,122391\n",
      "\n",
      "10.5,38,121872\n",
      "\n"
     ]
    }
   ],
   "source": [
    "# Reading line by line\n",
    "\n",
    "filename='Salary_Data.csv'\n",
    "\n",
    "with open(filename) as file_object:\n",
    "    for line in file_object:\n",
    "        print(line)\n",
    "\n",
    "# here we open pi_digits.txt and loop through the file to print each line\n",
    "\n",
    "# the blank lines appear because an invisible newline character is at the end of each line on the text file\n",
    "# the print statement adds it own newline each time we call it ,so we end up with two newline character at the end of each line\n",
    "# we can use rstrip() function to remove the blank line"
   ]
  },
  {
   "cell_type": "code",
   "execution_count": 11,
   "metadata": {},
   "outputs": [
    {
     "name": "stdout",
     "output_type": "stream",
     "text": [
      "YearsExperience,Age,Salary\n",
      "1.1,21,39343\n",
      "1.3,21.5,46205\n",
      "1.5,21.7,37731\n",
      "2,22,43525\n",
      "2.2,22.2,39891\n",
      "2.9,23,56642\n",
      "3,23,60150\n",
      "3.2,23.3,54445\n",
      "3.2,23.3,64445\n",
      "3.7,23.6,57189\n",
      "3.9,23.9,63218\n",
      "4,24,55794\n",
      "4,24,56957\n",
      "4.1,24,57081\n",
      "4.5,25,61111\n",
      "4.9,25,67938\n",
      "5.1,26,66029\n",
      "5.3,27,83088\n",
      "5.9,28,81363\n",
      "6,29,93940\n",
      "6.8,30,91738\n",
      "7.1,30,98273\n",
      "7.9,31,101302\n",
      "8.2,32,113812\n",
      "8.7,33,109431\n",
      "9,34,105582\n",
      "9.5,35,116969\n",
      "9.6,36,112635\n",
      "10.3,37,122391\n",
      "10.5,38,121872\n"
     ]
    }
   ],
   "source": [
    "# making a list of lines from a file\n",
    "\n",
    "filename='Salary_Data.csv'\n",
    "\n",
    "with open(filename) as file_object:\n",
    "    lines = file_object.readlines()\n",
    "\n",
    "for line in lines:\n",
    "    print(line.rstrip())\n",
    "\n",
    "# readlines() method takes each line from the file and stores it in a list. This list is then stored in lines"
   ]
  },
  {
   "cell_type": "code",
   "execution_count": 12,
   "metadata": {},
   "outputs": [
    {
     "name": "stdout",
     "output_type": "stream",
     "text": [
      "YearsExperience,Age,Salary1.1,21,393431.3,21.5,462051.5,21.7,377312,22,435252.2,22.2,398912.9,23,566423,23,601503.2,23.3,544453.2,23.3,644453.7,23.6,571893.9,23.9,632184,24,557944,24,569574.1,24,570814.5,25,611114.9,25,679385.1,26,660295.3,27,830885.9,28,813636,29,939406.8,30,917387.1,30,982737.9,31,1013028.2,32,1138128.7,33,1094319,34,1055829.5,35,1169699.6,36,11263510.3,37,12239110.5,38,121872\n",
      "398\n"
     ]
    }
   ],
   "source": [
    "# working with a file's contents\n",
    "\n",
    "filename='Salary_Data.csv'\n",
    "\n",
    "with open(filename) as file_object:\n",
    "    lines=file_object.readlines()\n",
    "\n",
    "pi_string=''\n",
    "for line in lines:\n",
    "    pi_string+=line.rstrip()\n",
    "\n",
    "print(pi_string)\n",
    "print(len(pi_string))\n",
    "\n",
    "# the whitespace that was on the left side of the digits in each line\n",
    "# we can get rid of that by using strip() instead of rstrip()"
   ]
  },
  {
   "cell_type": "code",
   "execution_count": 13,
   "metadata": {},
   "outputs": [
    {
     "name": "stdout",
     "output_type": "stream",
     "text": [
      "YearsExperience,Age,Salary1.1,21,393431.3,21.5,462051.5,21.7,377312,22,435252.2,22.2,398912.9,23,566423,23,601503.2,23.3,544453.2,23.3,644453.7,23.6,571893.9,23.9,632184,24,557944,24,569574.1,24,570814.5,25,611114.9,25,679385.1,26,660295.3,27,830885.9,28,813636,29,939406.8,30,917387.1,30,982737.9,31,1013028.2,32,1138128.7,33,1094319,34,1055829.5,35,1169699.6,36,11263510.3,37,12239110.5,38,121872\n",
      "398\n"
     ]
    }
   ],
   "source": [
    "filename='Salary_Data.csv'\n",
    "\n",
    "with open(filename) as file_object:\n",
    "    lines=file_object.readlines()\n",
    "\n",
    "pi_string=''\n",
    "for line in lines:\n",
    "    pi_string+=line.strip()\n",
    "\n",
    "print(pi_string)\n",
    "print(len(pi_string))"
   ]
  },
  {
   "cell_type": "code",
   "execution_count": 14,
   "metadata": {},
   "outputs": [
    {
     "name": "stdout",
     "output_type": "stream",
     "text": [
      "YearsExperience,Age,Salary1.1,21,393431.3,21.5,46205...\n",
      "398\n"
     ]
    }
   ],
   "source": [
    "filename='Salary_Data.csv'\n",
    "\n",
    "with open(filename) as file_object:\n",
    "    lines=file_object.readlines()\n",
    "\n",
    "pi_string=''\n",
    "for line in lines:\n",
    "    pi_string+=line.strip()\n",
    "\n",
    "print(pi_string[:52]+'...')\n",
    "print(len(pi_string))"
   ]
  },
  {
   "cell_type": "code",
   "execution_count": 18,
   "metadata": {},
   "outputs": [
    {
     "name": "stdin",
     "output_type": "stream",
     "text": [
      "Enter your Salary: 10000\n"
     ]
    }
   ],
   "source": [
    "filename='Salary_Data.csv'\n",
    "\n",
    "with open(filename) as file_object:\n",
    "    lines=file_object.readlines()\n",
    "\n",
    "Salary_Data=''\n",
    "for line in lines:\n",
    "    pi_string+=line.strip()\n",
    "\n",
    "birthday=input(\"Enter your Salary:\")"
   ]
  },
  {
   "cell_type": "markdown",
   "metadata": {},
   "source": [
    "### Writing to a File"
   ]
  },
  {
   "cell_type": "code",
   "execution_count": 20,
   "metadata": {},
   "outputs": [],
   "source": [
    "# Writing to an empty file\n",
    "\n",
    "#write_message.py\n",
    "\n",
    "filename='programming.txt'\n",
    "with open(filename,'w') as file_object:\n",
    "    file_object.write(\"I love programming\")\n",
    "\n",
    "# open() function has 2 agrument in above case, 1st argument is still the name of file and second argument is 'w' which tells python that we want to open the file in write mode. \n",
    "\n",
    "# we can open file is read mode 'r', write mode 'w',append mode 'a' and a mode that allows us to read and write to the file 'r+'\n",
    "\n",
    "# when we open a file in write mode, python automatically creates a file that we want to open if it doesnt exits\n",
    "# if the file exits,python will erase the file before returning the file object. \n",
    "\n"
   ]
  },
  {
   "cell_type": "code",
   "execution_count": 23,
   "metadata": {},
   "outputs": [],
   "source": [
    "# writing multiple lines\n",
    "\n",
    "filename='programming.txt'\n",
    "\n",
    "with open(filename,'w') as file_object:\n",
    "    file_object.write(\"I love creating new games.\\n\")\n",
    "    file_object.write(\"I love programming.\\n\")"
   ]
  },
  {
   "cell_type": "markdown",
   "metadata": {},
   "source": [
    "### Appending to a file\n",
    "\n",
    "- add content to a file instead of writing over to existing content"
   ]
  },
  {
   "cell_type": "code",
   "execution_count": 24,
   "metadata": {},
   "outputs": [],
   "source": [
    "filename='programming.txt'\n",
    "\n",
    "with open(filename,'a') as file_object:\n",
    "    file_object.write(\"I also love finding meaning in large datasets.\\n\")\n",
    "    file_object.write(\"I love creating apps that can run in a browser.\\n\")"
   ]
  },
  {
   "cell_type": "markdown",
   "metadata": {},
   "source": [
    "### Exceptions\n",
    "\n",
    "- python uses special object called exceptions to manage errors that arise during a program's execution.\n",
    "\n",
    "- whenever error accurs that make python ussure what to do next, it creates an exception object \n",
    "\n",
    "- if we write code that handles the exception, the program will continue running. If we don't handle the exception, thr program will halt and show a traceback, which includes a report of the exception that was raised."
   ]
  },
  {
   "cell_type": "code",
   "execution_count": 25,
   "metadata": {},
   "outputs": [
    {
     "ename": "ZeroDivisionError",
     "evalue": "division by zero",
     "output_type": "error",
     "traceback": [
      "\u001b[1;31m---------------------------------------------------------------------------\u001b[0m",
      "\u001b[1;31mZeroDivisionError\u001b[0m                         Traceback (most recent call last)",
      "Cell \u001b[1;32mIn[25], line 5\u001b[0m\n\u001b[0;32m      1\u001b[0m \u001b[38;5;66;03m# Handling the ZeroDivisionWrror Exception\u001b[39;00m\n\u001b[0;32m      2\u001b[0m \n\u001b[0;32m      3\u001b[0m \u001b[38;5;66;03m#division.py \u001b[39;00m\n\u001b[1;32m----> 5\u001b[0m \u001b[38;5;28mprint\u001b[39m(\u001b[38;5;241m5\u001b[39m\u001b[38;5;241m/\u001b[39m\u001b[38;5;241m0\u001b[39m)\n",
      "\u001b[1;31mZeroDivisionError\u001b[0m: division by zero"
     ]
    }
   ],
   "source": [
    "# Handling the ZeroDivisionWrror Exception\n",
    "\n",
    "#division.py \n",
    "\n",
    "print(5/0)"
   ]
  },
  {
   "cell_type": "code",
   "execution_count": 10,
   "metadata": {},
   "outputs": [
    {
     "name": "stdout",
     "output_type": "stream",
     "text": [
      "You can't divide by zero!\n"
     ]
    }
   ],
   "source": [
    "#using try-except blocks\n",
    "\n",
    "try:\n",
    "    print(5/0)\n",
    "except ZeroDivisionError:\n",
    "    print(\"You can't divide by zero!\")\n",
    "\n",
    "# we put print(5/0) in line that caused the error, inside a try block. If the code in a try blocks works, python skips over the except block. If the code in the try block causes an wrror,python looks for an exvept block whose wrror matches the ome that was raised and runs te code in that block.\n"
   ]
  },
  {
   "cell_type": "code",
   "execution_count": 27,
   "metadata": {},
   "outputs": [
    {
     "name": "stdout",
     "output_type": "stream",
     "text": [
      "Give me two numbers. and I'll divide them.\n",
      "Enter q to quit.\n"
     ]
    },
    {
     "name": "stdin",
     "output_type": "stream",
     "text": [
      "\n",
      "First Number: 2\n",
      "\n",
      " Second Number: 4\n"
     ]
    },
    {
     "name": "stdout",
     "output_type": "stream",
     "text": [
      "0.5\n"
     ]
    },
    {
     "name": "stdin",
     "output_type": "stream",
     "text": [
      "\n",
      "First Number: 0\n",
      "\n",
      " Second Number: 0\n"
     ]
    },
    {
     "ename": "ZeroDivisionError",
     "evalue": "division by zero",
     "output_type": "error",
     "traceback": [
      "\u001b[1;31m---------------------------------------------------------------------------\u001b[0m",
      "\u001b[1;31mZeroDivisionError\u001b[0m                         Traceback (most recent call last)",
      "Cell \u001b[1;32mIn[27], line 16\u001b[0m\n\u001b[0;32m     13\u001b[0m \u001b[38;5;28;01mif\u001b[39;00m second_number\u001b[38;5;241m==\u001b[39m\u001b[38;5;124m'\u001b[39m\u001b[38;5;124mq\u001b[39m\u001b[38;5;124m'\u001b[39m:\n\u001b[0;32m     14\u001b[0m     \u001b[38;5;28;01mbreak\u001b[39;00m\n\u001b[1;32m---> 16\u001b[0m answer\u001b[38;5;241m=\u001b[39m\u001b[38;5;28mint\u001b[39m(first_number)\u001b[38;5;241m/\u001b[39m\u001b[38;5;28mint\u001b[39m(second_number)\n\u001b[0;32m     17\u001b[0m \u001b[38;5;28mprint\u001b[39m(answer)\n",
      "\u001b[1;31mZeroDivisionError\u001b[0m: division by zero"
     ]
    }
   ],
   "source": [
    "# Using exveptions to prevent crashes\n",
    "#divison.py \n",
    "\n",
    "print(\"Give me two numbers. and I'll divide them.\")\n",
    "print(\"Enter q to quit.\")\n",
    "\n",
    "while True:\n",
    "    first_number=input(\"\\nFirst Number:\")\n",
    "    if first_number=='q':\n",
    "        break\n",
    "\n",
    "    second_number=input(\"\\n Second Number:\")\n",
    "    if second_number=='q':\n",
    "        break\n",
    "\n",
    "    answer=int(first_number)/int(second_number)\n",
    "    print(answer)"
   ]
  },
  {
   "cell_type": "code",
   "execution_count": 13,
   "metadata": {},
   "outputs": [
    {
     "name": "stdout",
     "output_type": "stream",
     "text": [
      "Give me two numbers. and I'll divide them.\n",
      "Enter q to quit.\n",
      "You can't divide by 0!\n"
     ]
    }
   ],
   "source": [
    "print(\"Give me two numbers. and I'll divide them.\")\n",
    "print(\"Enter q to quit.\")\n",
    "\n",
    "while True:\n",
    "    first_number=input(\"\\nFirst Number:\")\n",
    "    if first_number=='q':\n",
    "        break\n",
    "\n",
    "    second_number=input(\"\\n Second Number:\")\n",
    "    if second_number=='q':\n",
    "        break\n",
    "    \n",
    "    try:\n",
    "        answer=int(first_number)/int(second_number)\n",
    "    except ZeroDivisionError:\n",
    "        print(\"You can't divide by 0!\")\n",
    "    else:\n",
    "        print(answer)\n",
    "\n",
    "# Any code that depends on the tryblock executing successfully goes in the else block"
   ]
  },
  {
   "cell_type": "code",
   "execution_count": 29,
   "metadata": {},
   "outputs": [
    {
     "ename": "FileNotFoundError",
     "evalue": "[Errno 2] No such file or directory: 'alice.txt'",
     "output_type": "error",
     "traceback": [
      "\u001b[1;31m---------------------------------------------------------------------------\u001b[0m",
      "\u001b[1;31mFileNotFoundError\u001b[0m                         Traceback (most recent call last)",
      "Cell \u001b[1;32mIn[29], line 6\u001b[0m\n\u001b[0;32m      1\u001b[0m \u001b[38;5;66;03m# Handling the fileNotFoundError Exception\u001b[39;00m\n\u001b[0;32m      2\u001b[0m \n\u001b[0;32m      3\u001b[0m \u001b[38;5;66;03m# alice.py \u001b[39;00m\n\u001b[0;32m      5\u001b[0m filename \u001b[38;5;241m=\u001b[39m\u001b[38;5;124m'\u001b[39m\u001b[38;5;124malice.txt\u001b[39m\u001b[38;5;124m'\u001b[39m\n\u001b[1;32m----> 6\u001b[0m \u001b[38;5;28;01mwith\u001b[39;00m \u001b[38;5;28mopen\u001b[39m(filename) \u001b[38;5;28;01mas\u001b[39;00m f_obj:\n\u001b[0;32m      7\u001b[0m     contents\u001b[38;5;241m=\u001b[39mf_obj\u001b[38;5;241m.\u001b[39mread()\n",
      "File \u001b[1;32m~\\anaconda3\\Lib\\site-packages\\IPython\\core\\interactiveshell.py:310\u001b[0m, in \u001b[0;36m_modified_open\u001b[1;34m(file, *args, **kwargs)\u001b[0m\n\u001b[0;32m    303\u001b[0m \u001b[38;5;28;01mif\u001b[39;00m file \u001b[38;5;129;01min\u001b[39;00m {\u001b[38;5;241m0\u001b[39m, \u001b[38;5;241m1\u001b[39m, \u001b[38;5;241m2\u001b[39m}:\n\u001b[0;32m    304\u001b[0m     \u001b[38;5;28;01mraise\u001b[39;00m \u001b[38;5;167;01mValueError\u001b[39;00m(\n\u001b[0;32m    305\u001b[0m         \u001b[38;5;124mf\u001b[39m\u001b[38;5;124m\"\u001b[39m\u001b[38;5;124mIPython won\u001b[39m\u001b[38;5;124m'\u001b[39m\u001b[38;5;124mt let you open fd=\u001b[39m\u001b[38;5;132;01m{\u001b[39;00mfile\u001b[38;5;132;01m}\u001b[39;00m\u001b[38;5;124m by default \u001b[39m\u001b[38;5;124m\"\u001b[39m\n\u001b[0;32m    306\u001b[0m         \u001b[38;5;124m\"\u001b[39m\u001b[38;5;124mas it is likely to crash IPython. If you know what you are doing, \u001b[39m\u001b[38;5;124m\"\u001b[39m\n\u001b[0;32m    307\u001b[0m         \u001b[38;5;124m\"\u001b[39m\u001b[38;5;124myou can use builtins\u001b[39m\u001b[38;5;124m'\u001b[39m\u001b[38;5;124m open.\u001b[39m\u001b[38;5;124m\"\u001b[39m\n\u001b[0;32m    308\u001b[0m     )\n\u001b[1;32m--> 310\u001b[0m \u001b[38;5;28;01mreturn\u001b[39;00m io_open(file, \u001b[38;5;241m*\u001b[39margs, \u001b[38;5;241m*\u001b[39m\u001b[38;5;241m*\u001b[39mkwargs)\n",
      "\u001b[1;31mFileNotFoundError\u001b[0m: [Errno 2] No such file or directory: 'alice.txt'"
     ]
    }
   ],
   "source": [
    "# Handling the fileNotFoundError Exception\n",
    "\n",
    "# alice.py \n",
    "\n",
    "filename ='alice.txt'\n",
    "with open(filename) as f_obj:\n",
    "    contents=f_obj.read()"
   ]
  },
  {
   "cell_type": "code",
   "execution_count": 30,
   "metadata": {},
   "outputs": [
    {
     "name": "stdout",
     "output_type": "stream",
     "text": [
      "Sorry, the file alice.txt doesn't exist\n"
     ]
    }
   ],
   "source": [
    "filename ='alice.txt'\n",
    "try:\n",
    "    with open(filename) as f_obj:\n",
    "        contents=f_obj.read()\n",
    "except FileNotFoundError:\n",
    "    msg=\"Sorry, the file \"+filename+\" doesn't exist\"\n",
    "    print(msg)"
   ]
  },
  {
   "cell_type": "markdown",
   "metadata": {},
   "source": [
    "### Analyzing Text"
   ]
  },
  {
   "cell_type": "code",
   "execution_count": 31,
   "metadata": {},
   "outputs": [
    {
     "data": {
      "text/plain": [
       "['Alice', 'in', 'WonderLand']"
      ]
     },
     "execution_count": 31,
     "metadata": {},
     "output_type": "execute_result"
    }
   ],
   "source": [
    "title=\"Alice in WonderLand\"\n",
    "title.split()\n",
    "\n",
    "# split() method seperates a string into parts wherever it finds a space and stores al the parts of the string into a list."
   ]
  },
  {
   "cell_type": "code",
   "execution_count": 32,
   "metadata": {},
   "outputs": [
    {
     "name": "stdout",
     "output_type": "stream",
     "text": [
      "Sorry, the file alice.txt doesn't exist\n"
     ]
    }
   ],
   "source": [
    "filename ='alice.txt'\n",
    "try:\n",
    "    with open(filename) as f_obj:\n",
    "        contents=f_obj.read()\n",
    "except FileNotFoundError:\n",
    "    msg=\"Sorry, the file \"+filename+\" doesn't exist\"\n",
    "    print(msg)\n",
    "else:\n",
    "    #count the approximate number of words in the file\n",
    "    words=contents.split()\n",
    "    num_words=len(words)\n",
    "    print(\"The file \"+filename+\" has about \"+str(num_words)+\" words.\")"
   ]
  },
  {
   "cell_type": "markdown",
   "metadata": {},
   "source": [
    "### working with multiple  files\n"
   ]
  },
  {
   "cell_type": "code",
   "execution_count": 33,
   "metadata": {},
   "outputs": [
    {
     "name": "stdout",
     "output_type": "stream",
     "text": [
      "Sorry, the file alice.txt doesn't exist\n"
     ]
    }
   ],
   "source": [
    "def count_words(filename):\n",
    "    \"\"\"Count the approximate number of words in a file.\"\"\"\n",
    "    try:\n",
    "        with open(filename) as f_obj:\n",
    "            contents=f_obj.read()\n",
    "    except FileNotFoundError:\n",
    "        msg=\"Sorry, the file \"+filename+\" doesn't exist\"\n",
    "        print(msg)\n",
    "    else:\n",
    "        #count the approximate number of words in the file\n",
    "        words=contents.split()\n",
    "        num_words=len(words)\n",
    "        print(\"The file \"+filename+\" has about \"+str(num_words)+\" words.\")\n",
    "\n",
    "filename='alice.txt'\n",
    "count_words(filename)\n"
   ]
  },
  {
   "cell_type": "code",
   "execution_count": 5,
   "metadata": {},
   "outputs": [
    {
     "name": "stdout",
     "output_type": "stream",
     "text": [
      "The file alice.txt has about 29461 words.\n",
      "The file programming.txt has about 26 words.\n",
      "Sorry, the file hello.txt doesn't exist\n"
     ]
    }
   ],
   "source": [
    "def count_words(filename):\n",
    "    \"\"\"Count the approximate number of words in a file.\"\"\"\n",
    "    try:\n",
    "        with open(filename) as f_obj:\n",
    "            contents=f_obj.read()\n",
    "    except FileNotFoundError:\n",
    "        msg=\"Sorry, the file \"+filename+\" doesn't exist\"\n",
    "        print(msg)\n",
    "    else:\n",
    "        #count the approximate number of words in the file\n",
    "        words=contents.split()\n",
    "        num_words=len(words)\n",
    "        print(\"The file \"+filename+\" has about \"+str(num_words)+\" words.\")\n",
    "\n",
    "filenames=['alice.txt','programming.txt','hello.txt']\n",
    "\n",
    "for filename in filenames:\n",
    "    count_words(filename)"
   ]
  },
  {
   "cell_type": "markdown",
   "metadata": {},
   "source": [
    "### Storing Data\n",
    "\n",
    "- a simple way to store data is by using the json module\n",
    "\n",
    "- json (Javascript Object Notation) format was originally developed for javascript. However, it has since become a common format used by many languages"
   ]
  },
  {
   "cell_type": "code",
   "execution_count": 34,
   "metadata": {},
   "outputs": [],
   "source": [
    "# Using json.dump() and json.load()\n",
    "\n",
    "#number_writer.py\n",
    "import json\n",
    "numbers=[2,3,5,7,11,13]\n",
    "\n",
    "filename='numbers.json'\n",
    "with open(filename,'w') as f_obj:\n",
    "    json.dump(numbers,f_obj)\n",
    "\n",
    "# we first import the json module and then create a list of numbers to work with. \n",
    "# we choose a filename in vhich we store the list of  numbers\n",
    "# extension .json is used to incidicate that the data in the file is stored in the JSON format. \n",
    "# then we open the file in write mode, which allows json to write the data to the file\n",
    "# json.dump() function is used to store the list of numbers in the file numbers.json"
   ]
  },
  {
   "cell_type": "code",
   "execution_count": 35,
   "metadata": {},
   "outputs": [
    {
     "name": "stdout",
     "output_type": "stream",
     "text": [
      "[2, 3, 5, 7, 11, 13]\n"
     ]
    }
   ],
   "source": [
    "#json.load()\n",
    "\n",
    "filename='numbers.json'\n",
    "with open(filename) as f_obj:\n",
    "    numbers=json.load(f_obj)\n",
    "\n",
    "print(numbers)\n",
    "\n",
    "# we opened the file that we wrote above in read mode. \n",
    "# json.load() function to load the information stored in numbers.json and we store it in the variable numbers. \n"
   ]
  },
  {
   "cell_type": "code",
   "execution_count": 38,
   "metadata": {},
   "outputs": [
    {
     "name": "stdin",
     "output_type": "stream",
     "text": [
      "What is your name? Ashar\n"
     ]
    },
    {
     "name": "stdout",
     "output_type": "stream",
     "text": [
      "we'll remeber you when you comeback, Ashar!\n"
     ]
    }
   ],
   "source": [
    "# Saving and Reading User-Generated Data\n",
    "\n",
    "import json\n",
    "\n",
    "username =input(\"What is your name?\")\n",
    "\n",
    "filename='username.json'\n",
    "\n",
    "with open(filename,'w') as f_obj:\n",
    "    json.dump(username,f_obj)\n",
    "    print(\"we'll remeber you when you comeback, \"+username+\"!\")\n"
   ]
  },
  {
   "cell_type": "code",
   "execution_count": 37,
   "metadata": {},
   "outputs": [
    {
     "name": "stdout",
     "output_type": "stream",
     "text": [
      "Welcome back, Ashar!\n"
     ]
    }
   ],
   "source": [
    "import json\n",
    "\n",
    "filename='username.json'\n",
    "\n",
    "with open(filename) as f_obj:\n",
    "    username=json.load(f_obj)\n",
    "    print(\"Welcome back, \"+username+\"!\")"
   ]
  },
  {
   "cell_type": "code",
   "execution_count": 14,
   "metadata": {},
   "outputs": [
    {
     "name": "stdout",
     "output_type": "stream",
     "text": [
      "Welcome back, Prasmit Neupane!\n"
     ]
    }
   ],
   "source": [
    "# combining above 2 program \n",
    "\n",
    "import json\n",
    "\n",
    "# load the username , if it has been stored previously. \n",
    "# Otherwise, prompt for the username and store it. \n",
    "\n",
    "filename='username.json'\n",
    "\n",
    "try:\n",
    "    with open(filename) as f_obj:\n",
    "        username=json.load(f_obj)\n",
    "except FileNotFoundError:\n",
    "    username=input(\"What is your name?\")\n",
    "    with open(filenames,'w') as f_obj:\n",
    "        json.dump(username,f_obj)\n",
    "        print(\"We'll remeber you when you come back, \"+ username+\"!\")\n",
    "else:\n",
    "    print(\"Welcome back, \"+username+\"!\")"
   ]
  },
  {
   "cell_type": "markdown",
   "metadata": {},
   "source": [
    "### Refactoring\n",
    "\n",
    "- improving the code by breaking it up into a series of function that have specific jobs is called refactoring.\n"
   ]
  },
  {
   "cell_type": "code",
   "execution_count": 16,
   "metadata": {},
   "outputs": [
    {
     "name": "stdout",
     "output_type": "stream",
     "text": [
      "Welcome back, Prasmit Neupane!\n"
     ]
    }
   ],
   "source": [
    "import json\n",
    "\n",
    "def greet_user():\n",
    "    \"\"\"Greet the user by name.\"\"\"\n",
    "    filename='username.json'\n",
    "\n",
    "    try:\n",
    "        with open(filename) as f_obj:\n",
    "            username=json.load(f_obj)\n",
    "    except FileNotFoundError:\n",
    "        username=input(\"What is your name?\")\n",
    "        with open(filenames,'w') as f_obj:\n",
    "            json.dump(username,f_obj)\n",
    "            print(\"We'll remeber you when you come back, \"+ username+\"!\")\n",
    "    else:\n",
    "        print(\"Welcome back, \"+username+\"!\")\n",
    "\n",
    "greet_user()"
   ]
  },
  {
   "cell_type": "code",
   "execution_count": 4,
   "metadata": {},
   "outputs": [
    {
     "name": "stdout",
     "output_type": "stream",
     "text": [
      "Welcome back, Prasmit Neupane!\n"
     ]
    }
   ],
   "source": [
    "# making a seperate function:\n",
    "\n",
    "import json\n",
    "\n",
    "def get_stored_username():\n",
    "    \"\"\"Get stored usesrname if available\"\"\"\n",
    "    filename=\"username.json\"\n",
    "    try:\n",
    "        with open(filename) as f_obj:\n",
    "            username=json.load(f_obj)\n",
    "    except FileNotFoundError:\n",
    "        return None\n",
    "    else:\n",
    "        return username\n",
    "    \n",
    "def greet_user():\n",
    "    \"\"\"Greet the user by name.\"\"\"\n",
    "    username=get_stored_username()\n",
    "    if username:\n",
    "        print(\"Welcome back, \"+ username+\"!\")\n",
    "    else:\n",
    "        username=input(\"What is your name?\")\n",
    "        filename='username.json'\n",
    "        with open(filenames,'w') as f_obj:\n",
    "            json.dump(username,f_obj)\n",
    "            print(\"We'll remeber you when you come back, \"+ username+\"!\")\n",
    "\n",
    "greet_user()\n"
   ]
  },
  {
   "cell_type": "code",
   "execution_count": 5,
   "metadata": {},
   "outputs": [
    {
     "name": "stdout",
     "output_type": "stream",
     "text": [
      "Welcome back, Prasmit Neupane!\n"
     ]
    }
   ],
   "source": [
    "import json\n",
    "\n",
    "def get_stored_username():\n",
    "    \"\"\"Get stored usesrname if available\"\"\"\n",
    "    filename=\"username.json\"\n",
    "    try:\n",
    "        with open(filename) as f_obj:\n",
    "            username=json.load(f_obj)\n",
    "    except FileNotFoundError:\n",
    "        return None\n",
    "    else:\n",
    "        return username\n",
    "\n",
    "def get_new_username():\n",
    "    \"\"\"Prompt for a new username.\"\"\"\n",
    "    username=input(\"What is your name?\")\n",
    "    filename='username.json'\n",
    "    with open(filenames,'w') as f_obj:\n",
    "        json.dump(username,f_obj)\n",
    "    \n",
    "    return username\n",
    "\n",
    "def greet_user():\n",
    "    \"\"\"Greet the user by name.\"\"\"\n",
    "    username=get_stored_username()\n",
    "    if username:\n",
    "        print(\"Welcome back, \"+ username+\"!\")\n",
    "    else:\n",
    "        username=get_new_username()\n",
    "        print(\"We'll remeber you when you come back, \"+ username+\"!\")\n",
    "\n",
    "greet_user()\n"
   ]
  },
  {
   "cell_type": "code",
   "execution_count": null,
   "metadata": {},
   "outputs": [],
   "source": []
  }
 ],
 "metadata": {
  "kernelspec": {
   "display_name": "Python 3 (ipykernel)",
   "language": "python",
   "name": "python3"
  },
  "language_info": {
   "codemirror_mode": {
    "name": "ipython",
    "version": 3
   },
   "file_extension": ".py",
   "mimetype": "text/x-python",
   "name": "python",
   "nbconvert_exporter": "python",
   "pygments_lexer": "ipython3",
   "version": "3.11.7"
  },
  "metadata": {
   "interpreter": {
    "hash": "01e4a4ef43d7435a6845fd7336130797196ba9e9ad58f05806271349b7c58ab1"
   }
  }
 },
 "nbformat": 4,
 "nbformat_minor": 4
}
